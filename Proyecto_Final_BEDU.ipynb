{
  "nbformat": 4,
  "nbformat_minor": 0,
  "metadata": {
    "colab": {
      "provenance": [],
      "authorship_tag": "ABX9TyOJlDb+Y2A8oREtM7GXeO/1",
      "include_colab_link": true
    },
    "kernelspec": {
      "name": "python3",
      "display_name": "Python 3"
    },
    "language_info": {
      "name": "python"
    }
  },
  "cells": [
    {
      "cell_type": "markdown",
      "metadata": {
        "id": "view-in-github",
        "colab_type": "text"
      },
      "source": [
        "<a href=\"https://colab.research.google.com/github/rodezi/EntregableBEDU_Analisis_Equipo12_ProyectoFinal/blob/main/Proyecto_Final_BEDU.ipynb\" target=\"_parent\"><img src=\"https://colab.research.google.com/assets/colab-badge.svg\" alt=\"Open In Colab\"/></a>"
      ]
    },
    {
      "cell_type": "markdown",
      "source": [
        "# Equipo 12.\n",
        "\n",
        "## Proyecto Final BEDU\n",
        "En el siguiente proyecto llevo a cabo un analisis exploratorio de datos y posterior al analisis, un modelo de regresion logistica.\n",
        "\n",
        "Para este proyecto se uso el data set \"Anti - Money Laundering\" de Kaggle.\n",
        "https://www.kaggle.com/datasets/berkanoztas/synthetic-transaction-monitoring-dataset-aml"
      ],
      "metadata": {
        "id": "Qv1yvN7MNDbV"
      }
    },
    {
      "cell_type": "markdown",
      "source": [
        "Para correr el analisis hay que descargar el data set y cargarlo en el icono de \"carpeta\" que se encuentra a lado izquierdo, el data set aparecera como \"SAML-D\""
      ],
      "metadata": {
        "id": "nEjjkcd0U3aH"
      }
    },
    {
      "cell_type": "markdown",
      "source": [
        "Se cargan las librerias a utilizar en el proyecto"
      ],
      "metadata": {
        "id": "3Qe4NpogPr0k"
      }
    },
    {
      "cell_type": "code",
      "execution_count": 1,
      "metadata": {
        "id": "k-jfY_gKBmyw"
      },
      "outputs": [],
      "source": [
        "import numpy as np\n",
        "import pandas as pd\n",
        "import matplotlib.pyplot as plt\n",
        "import seaborn as sns\n",
        "import sklearn as skl"
      ]
    },
    {
      "cell_type": "markdown",
      "source": [
        "## Carga del data set"
      ],
      "metadata": {
        "id": "OFNbEbqZNP9M"
      }
    },
    {
      "cell_type": "code",
      "source": [
        "df = pd.read_csv(\"SAML-D.csv\")"
      ],
      "metadata": {
        "id": "MjLzsyCNJO7B"
      },
      "execution_count": 2,
      "outputs": []
    },
    {
      "cell_type": "markdown",
      "source": [
        "Informacion sobre el data set, que nos muestra registros y columnas.\n",
        "NO hay registros nulos"
      ],
      "metadata": {
        "id": "JxTTyJsYNfC7"
      }
    },
    {
      "cell_type": "code",
      "source": [
        "df.info()"
      ],
      "metadata": {
        "colab": {
          "base_uri": "https://localhost:8080/"
        },
        "id": "rm4jRWQuKXmF",
        "outputId": "64a7a59f-27fd-47b1-8e9a-019870c1d994"
      },
      "execution_count": 3,
      "outputs": [
        {
          "output_type": "stream",
          "name": "stdout",
          "text": [
            "<class 'pandas.core.frame.DataFrame'>\n",
            "RangeIndex: 8754485 entries, 0 to 8754484\n",
            "Data columns (total 12 columns):\n",
            " #   Column                  Dtype  \n",
            "---  ------                  -----  \n",
            " 0   Time                    object \n",
            " 1   Date                    object \n",
            " 2   Sender_account          int64  \n",
            " 3   Receiver_account        int64  \n",
            " 4   Amount                  float64\n",
            " 5   Payment_currency        object \n",
            " 6   Received_currency       object \n",
            " 7   Sender_bank_location    object \n",
            " 8   Receiver_bank_location  object \n",
            " 9   Payment_type            object \n",
            " 10  Is_laundering           int64  \n",
            " 11  Laundering_type         object \n",
            "dtypes: float64(1), int64(3), object(8)\n",
            "memory usage: 801.5+ MB\n"
          ]
        }
      ]
    },
    {
      "cell_type": "markdown",
      "source": [
        "Aqui elimine las columnas **\"Time\"** y **\"Date\"**."
      ],
      "metadata": {
        "id": "gxnqOEoukOLb"
      }
    },
    {
      "cell_type": "code",
      "source": [
        "df.drop(['Time', 'Date'], axis=1, inplace=True)"
      ],
      "metadata": {
        "id": "cYluu-EsjPX-"
      },
      "execution_count": 4,
      "outputs": []
    },
    {
      "cell_type": "markdown",
      "source": [
        "Aqui se hace una visualizacion de columnas como: **Payment currency, Sender Bank location, Payment Type**. entre otras. Nos dio datos valiosos sobre como determinar el proyecto a continuacion."
      ],
      "metadata": {
        "id": "itL_G4ICW1pu"
      }
    },
    {
      "cell_type": "code",
      "source": [
        "for col in ['Payment_currency', 'Received_currency', 'Sender_bank_location',\n",
        "            'Receiver_bank_location', 'Payment_type', 'Laundering_type']:\n",
        "    print(f\"Columna: {col}\")\n",
        "    print(df[col].value_counts())\n",
        "    print(\"\\n\" + \"=\"*50 + \"\\n\")"
      ],
      "metadata": {
        "colab": {
          "base_uri": "https://localhost:8080/"
        },
        "id": "DWVjlN48OWTJ",
        "outputId": "237f5d3f-6940-4da3-8c72-150f1d99693f"
      },
      "execution_count": 5,
      "outputs": [
        {
          "output_type": "stream",
          "name": "stdout",
          "text": [
            "Columna: Payment_currency\n",
            "Payment_currency\n",
            "UK pounds          8382986\n",
            "Euro                107799\n",
            "Dirham               25491\n",
            "Swiss franc          25279\n",
            "Pakistani rupee      24971\n",
            "Turkish lira         24939\n",
            "Naira                24801\n",
            "US dollar            23922\n",
            "Yen                  23489\n",
            "Indian rupee         22983\n",
            "Moroccan dirham      22980\n",
            "Albanian lek         22474\n",
            "Mexican Peso         22371\n",
            "Name: count, dtype: int64\n",
            "\n",
            "==================================================\n",
            "\n",
            "Columna: Received_currency\n",
            "Received_currency\n",
            "UK pounds          8089163\n",
            "Euro                213926\n",
            "Pakistani rupee      42590\n",
            "Moroccan dirham      42576\n",
            "Mexican Peso         42076\n",
            "Albanian lek         41879\n",
            "Yen                  41840\n",
            "Naira                41521\n",
            "Indian rupee         40697\n",
            "US dollar            39793\n",
            "Dirham               39648\n",
            "Swiss franc          39451\n",
            "Turkish lira         39325\n",
            "Name: count, dtype: int64\n",
            "\n",
            "==================================================\n",
            "\n",
            "Columna: Sender_bank_location\n",
            "Sender_bank_location\n",
            "UK             8460130\n",
            "UAE              18896\n",
            "Switzerland      18873\n",
            "Pakistan         18642\n",
            "Turkey           18406\n",
            "Nigeria          18239\n",
            "Germany          17827\n",
            "France           17524\n",
            "USA              17460\n",
            "Italy            17330\n",
            "Spain            17164\n",
            "Japan            16971\n",
            "Austria          16710\n",
            "Morocco          16547\n",
            "India            16516\n",
            "Albania          15910\n",
            "Mexico           15751\n",
            "Netherlands      15589\n",
            "Name: count, dtype: int64\n",
            "\n",
            "==================================================\n",
            "\n",
            "Columna: Receiver_bank_location\n",
            "Receiver_bank_location\n",
            "UK             8163829\n",
            "Pakistan         36116\n",
            "Morocco          36047\n",
            "Germany          35924\n",
            "Austria          35773\n",
            "Mexico           35696\n",
            "Albania          35496\n",
            "France           35421\n",
            "Japan            35340\n",
            "Nigeria          35305\n",
            "India            34443\n",
            "Spain            34441\n",
            "Netherlands      34197\n",
            "Italy            33661\n",
            "USA              33491\n",
            "UAE              33260\n",
            "Switzerland      33142\n",
            "Turkey           32903\n",
            "Name: count, dtype: int64\n",
            "\n",
            "==================================================\n",
            "\n",
            "Columna: Payment_type\n",
            "Payment_type\n",
            "Credit card        1853835\n",
            "Debit card         1853199\n",
            "Cheque             1852629\n",
            "ACH                1850212\n",
            "Cross-border        859452\n",
            "Cash Withdrawal     276990\n",
            "Cash Deposit        208168\n",
            "Name: count, dtype: int64\n",
            "\n",
            "==================================================\n",
            "\n",
            "Columna: Laundering_type\n",
            "Laundering_type\n",
            "Normal_Small_Fan_Out      3205128\n",
            "Normal_Fan_Out            2114426\n",
            "Normal_Fan_In             1947920\n",
            "Normal_Group               487000\n",
            "Normal_Cash_Withdrawal     281188\n",
            "Normal_Cash_Deposits       206886\n",
            "Normal_Periodical          193405\n",
            "Normal_Plus_Mutual         136474\n",
            "Normal_Mutual              115421\n",
            "Normal_Foward               38671\n",
            "Normal_single_large         19003\n",
            "Structuring                  1697\n",
            "Cash_Withdrawal              1195\n",
            "Deposit-Send                  859\n",
            "Smurfing                      851\n",
            "Layered_Fan_In                603\n",
            "Layered_Fan_Out               474\n",
            "Stacked Bipartite             418\n",
            "Bipartite                     375\n",
            "Behavioural_Change_1          373\n",
            "Cycle                         364\n",
            "Fan_In                        335\n",
            "Scatter-Gather                323\n",
            "Behavioural_Change_2          318\n",
            "Gather-Scatter                300\n",
            "Single_large                  236\n",
            "Fan_Out                       191\n",
            "Over-Invoicing                 50\n",
            "N                               1\n",
            "Name: count, dtype: int64\n",
            "\n",
            "==================================================\n",
            "\n"
          ]
        }
      ]
    },
    {
      "cell_type": "markdown",
      "source": [
        "Aqui hice una conversion de las tasas de cambio a dolares y una nueva columna con el nuevo valor (USD)"
      ],
      "metadata": {
        "id": "NCQR9ieWlxMn"
      }
    },
    {
      "cell_type": "code",
      "metadata": {
        "colab": {
          "base_uri": "https://localhost:8080/",
          "height": 362
        },
        "id": "fdf3fd7b",
        "outputId": "f3266b43-4fd4-491d-c848-06ea8a76a02b"
      },
      "source": [
        "# Tasas de cambio hacia USD (example rates, you may need to adjust based on the data's timeframe)\n",
        "conversion_to_usd = {\n",
        "    'UK POUNDS': 1.28,\n",
        "    'EURO': 1.16,\n",
        "    'DIRHAM': 0.27,\n",
        "    'SWISS FRANC': 1.11,\n",
        "    'PAKISTANI RUPEE': 0.0036,\n",
        "    'TURKISH LIRA': 0.037,\n",
        "    'NAIRA': 0.00067,\n",
        "    'US DOLLAR': 1.0,\n",
        "    'YEN': 0.0068,\n",
        "    'INDIAN RUPEE': 0.012,\n",
        "    'MOROCCAN DIRHAM': 0.10,\n",
        "    'ALBANIAN LEK': 0.011,\n",
        "    'MEXICAN PESO': 0.059\n",
        "}\n",
        "\n",
        "# Crear nueva columna en USD\n",
        "def convertir_a_usd(row):\n",
        "    rate = conversion_to_usd.get(row['Payment_currency'], 1.0)\n",
        "    return row['Amount'] * rate\n",
        "\n",
        "df['Amount_usd'] = df.apply(convertir_a_usd, axis=1)\n",
        "\n",
        "display(df[['Amount', 'Payment_currency', 'Amount_usd']].head(10))\n"
      ],
      "execution_count": 6,
      "outputs": [
        {
          "output_type": "display_data",
          "data": {
            "text/plain": [
              "     Amount Payment_currency  Amount_usd\n",
              "0   1459.15        UK pounds     1459.15\n",
              "1   6019.64        UK pounds     6019.64\n",
              "2  14328.44        UK pounds    14328.44\n",
              "3  11895.00        UK pounds    11895.00\n",
              "4    115.25        UK pounds      115.25\n",
              "5   5130.99        UK pounds     5130.99\n",
              "6  12176.52        UK pounds    12176.52\n",
              "7     56.90        UK pounds       56.90\n",
              "8   4738.45        UK pounds     4738.45\n",
              "9   5883.87     Indian rupee     5883.87"
            ],
            "text/html": [
              "\n",
              "  <div id=\"df-30e6ea82-88d1-4335-8fee-523c4ecbfaa8\" class=\"colab-df-container\">\n",
              "    <div>\n",
              "<style scoped>\n",
              "    .dataframe tbody tr th:only-of-type {\n",
              "        vertical-align: middle;\n",
              "    }\n",
              "\n",
              "    .dataframe tbody tr th {\n",
              "        vertical-align: top;\n",
              "    }\n",
              "\n",
              "    .dataframe thead th {\n",
              "        text-align: right;\n",
              "    }\n",
              "</style>\n",
              "<table border=\"1\" class=\"dataframe\">\n",
              "  <thead>\n",
              "    <tr style=\"text-align: right;\">\n",
              "      <th></th>\n",
              "      <th>Amount</th>\n",
              "      <th>Payment_currency</th>\n",
              "      <th>Amount_usd</th>\n",
              "    </tr>\n",
              "  </thead>\n",
              "  <tbody>\n",
              "    <tr>\n",
              "      <th>0</th>\n",
              "      <td>1459.15</td>\n",
              "      <td>UK pounds</td>\n",
              "      <td>1459.15</td>\n",
              "    </tr>\n",
              "    <tr>\n",
              "      <th>1</th>\n",
              "      <td>6019.64</td>\n",
              "      <td>UK pounds</td>\n",
              "      <td>6019.64</td>\n",
              "    </tr>\n",
              "    <tr>\n",
              "      <th>2</th>\n",
              "      <td>14328.44</td>\n",
              "      <td>UK pounds</td>\n",
              "      <td>14328.44</td>\n",
              "    </tr>\n",
              "    <tr>\n",
              "      <th>3</th>\n",
              "      <td>11895.00</td>\n",
              "      <td>UK pounds</td>\n",
              "      <td>11895.00</td>\n",
              "    </tr>\n",
              "    <tr>\n",
              "      <th>4</th>\n",
              "      <td>115.25</td>\n",
              "      <td>UK pounds</td>\n",
              "      <td>115.25</td>\n",
              "    </tr>\n",
              "    <tr>\n",
              "      <th>5</th>\n",
              "      <td>5130.99</td>\n",
              "      <td>UK pounds</td>\n",
              "      <td>5130.99</td>\n",
              "    </tr>\n",
              "    <tr>\n",
              "      <th>6</th>\n",
              "      <td>12176.52</td>\n",
              "      <td>UK pounds</td>\n",
              "      <td>12176.52</td>\n",
              "    </tr>\n",
              "    <tr>\n",
              "      <th>7</th>\n",
              "      <td>56.90</td>\n",
              "      <td>UK pounds</td>\n",
              "      <td>56.90</td>\n",
              "    </tr>\n",
              "    <tr>\n",
              "      <th>8</th>\n",
              "      <td>4738.45</td>\n",
              "      <td>UK pounds</td>\n",
              "      <td>4738.45</td>\n",
              "    </tr>\n",
              "    <tr>\n",
              "      <th>9</th>\n",
              "      <td>5883.87</td>\n",
              "      <td>Indian rupee</td>\n",
              "      <td>5883.87</td>\n",
              "    </tr>\n",
              "  </tbody>\n",
              "</table>\n",
              "</div>\n",
              "    <div class=\"colab-df-buttons\">\n",
              "\n",
              "  <div class=\"colab-df-container\">\n",
              "    <button class=\"colab-df-convert\" onclick=\"convertToInteractive('df-30e6ea82-88d1-4335-8fee-523c4ecbfaa8')\"\n",
              "            title=\"Convert this dataframe to an interactive table.\"\n",
              "            style=\"display:none;\">\n",
              "\n",
              "  <svg xmlns=\"http://www.w3.org/2000/svg\" height=\"24px\" viewBox=\"0 -960 960 960\">\n",
              "    <path d=\"M120-120v-720h720v720H120Zm60-500h600v-160H180v160Zm220 220h160v-160H400v160Zm0 220h160v-160H400v160ZM180-400h160v-160H180v160Zm440 0h160v-160H620v160ZM180-180h160v-160H180v160Zm440 0h160v-160H620v160Z\"/>\n",
              "  </svg>\n",
              "    </button>\n",
              "\n",
              "  <style>\n",
              "    .colab-df-container {\n",
              "      display:flex;\n",
              "      gap: 12px;\n",
              "    }\n",
              "\n",
              "    .colab-df-convert {\n",
              "      background-color: #E8F0FE;\n",
              "      border: none;\n",
              "      border-radius: 50%;\n",
              "      cursor: pointer;\n",
              "      display: none;\n",
              "      fill: #1967D2;\n",
              "      height: 32px;\n",
              "      padding: 0 0 0 0;\n",
              "      width: 32px;\n",
              "    }\n",
              "\n",
              "    .colab-df-convert:hover {\n",
              "      background-color: #E2EBFA;\n",
              "      box-shadow: 0px 1px 2px rgba(60, 64, 67, 0.3), 0px 1px 3px 1px rgba(60, 64, 67, 0.15);\n",
              "      fill: #174EA6;\n",
              "    }\n",
              "\n",
              "    .colab-df-buttons div {\n",
              "      margin-bottom: 4px;\n",
              "    }\n",
              "\n",
              "    [theme=dark] .colab-df-convert {\n",
              "      background-color: #3B4455;\n",
              "      fill: #D2E3FC;\n",
              "    }\n",
              "\n",
              "    [theme=dark] .colab-df-convert:hover {\n",
              "      background-color: #434B5C;\n",
              "      box-shadow: 0px 1px 3px 1px rgba(0, 0, 0, 0.15);\n",
              "      filter: drop-shadow(0px 1px 2px rgba(0, 0, 0, 0.3));\n",
              "      fill: #FFFFFF;\n",
              "    }\n",
              "  </style>\n",
              "\n",
              "    <script>\n",
              "      const buttonEl =\n",
              "        document.querySelector('#df-30e6ea82-88d1-4335-8fee-523c4ecbfaa8 button.colab-df-convert');\n",
              "      buttonEl.style.display =\n",
              "        google.colab.kernel.accessAllowed ? 'block' : 'none';\n",
              "\n",
              "      async function convertToInteractive(key) {\n",
              "        const element = document.querySelector('#df-30e6ea82-88d1-4335-8fee-523c4ecbfaa8');\n",
              "        const dataTable =\n",
              "          await google.colab.kernel.invokeFunction('convertToInteractive',\n",
              "                                                    [key], {});\n",
              "        if (!dataTable) return;\n",
              "\n",
              "        const docLinkHtml = 'Like what you see? Visit the ' +\n",
              "          '<a target=\"_blank\" href=https://colab.research.google.com/notebooks/data_table.ipynb>data table notebook</a>'\n",
              "          + ' to learn more about interactive tables.';\n",
              "        element.innerHTML = '';\n",
              "        dataTable['output_type'] = 'display_data';\n",
              "        await google.colab.output.renderOutput(dataTable, element);\n",
              "        const docLink = document.createElement('div');\n",
              "        docLink.innerHTML = docLinkHtml;\n",
              "        element.appendChild(docLink);\n",
              "      }\n",
              "    </script>\n",
              "  </div>\n",
              "\n",
              "\n",
              "    <div id=\"df-f2cf75d9-5160-422d-8b36-052171ca6877\">\n",
              "      <button class=\"colab-df-quickchart\" onclick=\"quickchart('df-f2cf75d9-5160-422d-8b36-052171ca6877')\"\n",
              "                title=\"Suggest charts\"\n",
              "                style=\"display:none;\">\n",
              "\n",
              "<svg xmlns=\"http://www.w3.org/2000/svg\" height=\"24px\"viewBox=\"0 0 24 24\"\n",
              "     width=\"24px\">\n",
              "    <g>\n",
              "        <path d=\"M19 3H5c-1.1 0-2 .9-2 2v14c0 1.1.9 2 2 2h14c1.1 0 2-.9 2-2V5c0-1.1-.9-2-2-2zM9 17H7v-7h2v7zm4 0h-2V7h2v10zm4 0h-2v-4h2v4z\"/>\n",
              "    </g>\n",
              "</svg>\n",
              "      </button>\n",
              "\n",
              "<style>\n",
              "  .colab-df-quickchart {\n",
              "      --bg-color: #E8F0FE;\n",
              "      --fill-color: #1967D2;\n",
              "      --hover-bg-color: #E2EBFA;\n",
              "      --hover-fill-color: #174EA6;\n",
              "      --disabled-fill-color: #AAA;\n",
              "      --disabled-bg-color: #DDD;\n",
              "  }\n",
              "\n",
              "  [theme=dark] .colab-df-quickchart {\n",
              "      --bg-color: #3B4455;\n",
              "      --fill-color: #D2E3FC;\n",
              "      --hover-bg-color: #434B5C;\n",
              "      --hover-fill-color: #FFFFFF;\n",
              "      --disabled-bg-color: #3B4455;\n",
              "      --disabled-fill-color: #666;\n",
              "  }\n",
              "\n",
              "  .colab-df-quickchart {\n",
              "    background-color: var(--bg-color);\n",
              "    border: none;\n",
              "    border-radius: 50%;\n",
              "    cursor: pointer;\n",
              "    display: none;\n",
              "    fill: var(--fill-color);\n",
              "    height: 32px;\n",
              "    padding: 0;\n",
              "    width: 32px;\n",
              "  }\n",
              "\n",
              "  .colab-df-quickchart:hover {\n",
              "    background-color: var(--hover-bg-color);\n",
              "    box-shadow: 0 1px 2px rgba(60, 64, 67, 0.3), 0 1px 3px 1px rgba(60, 64, 67, 0.15);\n",
              "    fill: var(--button-hover-fill-color);\n",
              "  }\n",
              "\n",
              "  .colab-df-quickchart-complete:disabled,\n",
              "  .colab-df-quickchart-complete:disabled:hover {\n",
              "    background-color: var(--disabled-bg-color);\n",
              "    fill: var(--disabled-fill-color);\n",
              "    box-shadow: none;\n",
              "  }\n",
              "\n",
              "  .colab-df-spinner {\n",
              "    border: 2px solid var(--fill-color);\n",
              "    border-color: transparent;\n",
              "    border-bottom-color: var(--fill-color);\n",
              "    animation:\n",
              "      spin 1s steps(1) infinite;\n",
              "  }\n",
              "\n",
              "  @keyframes spin {\n",
              "    0% {\n",
              "      border-color: transparent;\n",
              "      border-bottom-color: var(--fill-color);\n",
              "      border-left-color: var(--fill-color);\n",
              "    }\n",
              "    20% {\n",
              "      border-color: transparent;\n",
              "      border-left-color: var(--fill-color);\n",
              "      border-top-color: var(--fill-color);\n",
              "    }\n",
              "    30% {\n",
              "      border-color: transparent;\n",
              "      border-left-color: var(--fill-color);\n",
              "      border-top-color: var(--fill-color);\n",
              "      border-right-color: var(--fill-color);\n",
              "    }\n",
              "    40% {\n",
              "      border-color: transparent;\n",
              "      border-right-color: var(--fill-color);\n",
              "      border-top-color: var(--fill-color);\n",
              "    }\n",
              "    60% {\n",
              "      border-color: transparent;\n",
              "      border-right-color: var(--fill-color);\n",
              "    }\n",
              "    80% {\n",
              "      border-color: transparent;\n",
              "      border-right-color: var(--fill-color);\n",
              "      border-bottom-color: var(--fill-color);\n",
              "    }\n",
              "    90% {\n",
              "      border-color: transparent;\n",
              "      border-bottom-color: var(--fill-color);\n",
              "    }\n",
              "  }\n",
              "</style>\n",
              "\n",
              "      <script>\n",
              "        async function quickchart(key) {\n",
              "          const quickchartButtonEl =\n",
              "            document.querySelector('#' + key + ' button');\n",
              "          quickchartButtonEl.disabled = true;  // To prevent multiple clicks.\n",
              "          quickchartButtonEl.classList.add('colab-df-spinner');\n",
              "          try {\n",
              "            const charts = await google.colab.kernel.invokeFunction(\n",
              "                'suggestCharts', [key], {});\n",
              "          } catch (error) {\n",
              "            console.error('Error during call to suggestCharts:', error);\n",
              "          }\n",
              "          quickchartButtonEl.classList.remove('colab-df-spinner');\n",
              "          quickchartButtonEl.classList.add('colab-df-quickchart-complete');\n",
              "        }\n",
              "        (() => {\n",
              "          let quickchartButtonEl =\n",
              "            document.querySelector('#df-f2cf75d9-5160-422d-8b36-052171ca6877 button');\n",
              "          quickchartButtonEl.style.display =\n",
              "            google.colab.kernel.accessAllowed ? 'block' : 'none';\n",
              "        })();\n",
              "      </script>\n",
              "    </div>\n",
              "\n",
              "    </div>\n",
              "  </div>\n"
            ],
            "application/vnd.google.colaboratory.intrinsic+json": {
              "type": "dataframe",
              "summary": "{\n  \"name\": \"display(df[['Amount', 'Payment_currency', 'Amount_usd']]\",\n  \"rows\": 10,\n  \"fields\": [\n    {\n      \"column\": \"Amount\",\n      \"properties\": {\n        \"dtype\": \"number\",\n        \"std\": 5108.472454393671,\n        \"min\": 56.9,\n        \"max\": 14328.44,\n        \"num_unique_values\": 10,\n        \"samples\": [\n          4738.45,\n          6019.64,\n          5130.99\n        ],\n        \"semantic_type\": \"\",\n        \"description\": \"\"\n      }\n    },\n    {\n      \"column\": \"Payment_currency\",\n      \"properties\": {\n        \"dtype\": \"category\",\n        \"num_unique_values\": 2,\n        \"samples\": [\n          \"Indian rupee\",\n          \"UK pounds\"\n        ],\n        \"semantic_type\": \"\",\n        \"description\": \"\"\n      }\n    },\n    {\n      \"column\": \"Amount_usd\",\n      \"properties\": {\n        \"dtype\": \"number\",\n        \"std\": 5108.472454393671,\n        \"min\": 56.9,\n        \"max\": 14328.44,\n        \"num_unique_values\": 10,\n        \"samples\": [\n          4738.45,\n          6019.64\n        ],\n        \"semantic_type\": \"\",\n        \"description\": \"\"\n      }\n    }\n  ]\n}"
            }
          },
          "metadata": {}
        }
      ]
    },
    {
      "cell_type": "code",
      "source": [
        "df.info()"
      ],
      "metadata": {
        "colab": {
          "base_uri": "https://localhost:8080/"
        },
        "id": "HBg08gL0y8Mx",
        "outputId": "cebd716f-7663-495e-ebbb-bedd5f34f5c5"
      },
      "execution_count": 7,
      "outputs": [
        {
          "output_type": "stream",
          "name": "stdout",
          "text": [
            "<class 'pandas.core.frame.DataFrame'>\n",
            "RangeIndex: 8754485 entries, 0 to 8754484\n",
            "Data columns (total 11 columns):\n",
            " #   Column                  Dtype  \n",
            "---  ------                  -----  \n",
            " 0   Sender_account          int64  \n",
            " 1   Receiver_account        int64  \n",
            " 2   Amount                  float64\n",
            " 3   Payment_currency        object \n",
            " 4   Received_currency       object \n",
            " 5   Sender_bank_location    object \n",
            " 6   Receiver_bank_location  object \n",
            " 7   Payment_type            object \n",
            " 8   Is_laundering           int64  \n",
            " 9   Laundering_type         object \n",
            " 10  Amount_usd              float64\n",
            "dtypes: float64(2), int64(3), object(6)\n",
            "memory usage: 734.7+ MB\n"
          ]
        }
      ]
    },
    {
      "cell_type": "markdown",
      "source": [
        "## Aqui empieza mi analisis exploratorio de datos.\n",
        "\n",
        "Numero total de transacciones:\n",
        "\n",
        "Proporción de transacciones legítimas y sospechosas (lavado de dinero):\n",
        "\n",
        "*   Legitimas: 8,745,523\n",
        "*   Fraudulentas: 8, 962\n",
        "\n",
        "Transacciones por tipo de método (ACH, crédito, débito, cheque):\n",
        "\n",
        "**Las cuatro principales**\n",
        "\n",
        "*   Tarjeta de credito: 1,853,835\n",
        "*   Tarjeta de debito: 1,853,199\n",
        "*   Cheque: 1,852,629\n",
        "*   ACH: 1,850,212\n",
        "\n",
        "**Distribución de montos**\n",
        "\n",
        "¿Cuál es la distribución de los montos de transacción?\n",
        "\n",
        "¿Las transacciones sospechosas tienden a tener montos más altos que las legítimas?\n",
        "\n",
        "Si, la media de transaciones sospechosas es de 41,302 usd\n",
        "\n",
        "Mientras que la de transaciones normales es de 8, 736 usd\n",
        "\n",
        "De donde vienen las transacciones mas sospechosas?\n",
        "\n",
        "*  Uk\n",
        "*  Marruecos\n",
        "*  Mexico\n",
        "*  India\n",
        "*  Suiza\n",
        "\n",
        "¿Cuál es el monto promedio y mediano por tipo de transacción?\n",
        "\n",
        "* Legitimo: 41,302\n",
        "* Sospechoso: 8, 736\n",
        "\n",
        "¿Qué tipo de método tiene mayor proporción de transacciones sospechosas?\n",
        "\n",
        "Los primeros tres en la lista son:\n",
        "\n",
        "*  Cross-border\n",
        "*  Cash deposit\n",
        "*  Cash Withdrawal\n",
        "\n",
        "Los metodos que se hacen via **ACH** tienen una mayor probabilidad de ser fraudulentos.\n",
        "\n"
      ],
      "metadata": {
        "id": "gl_-yWrToenS"
      }
    },
    {
      "cell_type": "code",
      "source": [
        "total_transactions = int(len(df))\n",
        "print(f\"Total number of transactions: {total_transactions:,}\")"
      ],
      "metadata": {
        "colab": {
          "base_uri": "https://localhost:8080/"
        },
        "id": "d6IFU9chxvGR",
        "outputId": "5ecab26d-c246-4d88-a70d-613da7f68ae3"
      },
      "execution_count": 11,
      "outputs": [
        {
          "output_type": "stream",
          "name": "stdout",
          "text": [
            "Total number of transactions: 8,754,485\n"
          ]
        }
      ]
    },
    {
      "cell_type": "code",
      "source": [
        "def format_number(number):\n",
        "    return f'{number:,}'\n",
        "\n",
        "legit_transactions = df[df['Is_laundering'] == 0.0]\n",
        "fraudulent_transactions = df[df['Is_laundering'] == 1.0]\n",
        "\n",
        "print(f\"Total number of legit transactions: {format_number(len(legit_transactions))}\")\n",
        "print(f\"Total number of fraudulent transactions: {format_number(len(fraudulent_transactions))}\")"
      ],
      "metadata": {
        "colab": {
          "base_uri": "https://localhost:8080/"
        },
        "id": "wx-3xdHs1koV",
        "outputId": "2bd114b0-397a-4f7d-d1b7-4f5e715ae3eb"
      },
      "execution_count": 12,
      "outputs": [
        {
          "output_type": "stream",
          "name": "stdout",
          "text": [
            "Total number of legit transactions: 8,745,523\n",
            "Total number of fraudulent transactions: 8,962\n"
          ]
        }
      ]
    },
    {
      "cell_type": "code",
      "source": [
        "transactions_per_method = df['Payment_type'].value_counts().apply(lambda x: f'{x:,}')\n",
        "\n",
        "print(f\"Transactions per method: {transactions_per_method}\")"
      ],
      "metadata": {
        "colab": {
          "base_uri": "https://localhost:8080/"
        },
        "id": "-lcylbYq36GP",
        "outputId": "34b9cb93-817b-4580-ef18-ed25a4d04d1a"
      },
      "execution_count": 13,
      "outputs": [
        {
          "output_type": "stream",
          "name": "stdout",
          "text": [
            "Transactions per method: Payment_type\n",
            "Credit card        1,853,835\n",
            "Debit card         1,853,199\n",
            "Cheque             1,852,629\n",
            "ACH                1,850,212\n",
            "Cross-border         859,452\n",
            "Cash Withdrawal      276,990\n",
            "Cash Deposit         208,168\n",
            "Name: count, dtype: object\n"
          ]
        }
      ]
    },
    {
      "cell_type": "code",
      "source": [
        "suspicious_transactions_mean_amount_usd = df[df['Is_laundering'] == 1.0]['Amount_usd'].mean()\n",
        "legit_transactions_mean_amount_usd = df[df['Is_laundering'] == 0.0]['Amount_usd'].mean()\n",
        "\n",
        "print(f\"Mean amount (USD) for suspicious transactions: {suspicious_transactions_mean_amount_usd:,.2f}\")\n",
        "print(f\"Mean amount (USD) for legit transactions: {legit_transactions_mean_amount_usd:,.2f}\")"
      ],
      "metadata": {
        "colab": {
          "base_uri": "https://localhost:8080/"
        },
        "id": "Q94w7AKjAL1y",
        "outputId": "88771920-15a3-4531-951d-b158d52b729a"
      },
      "execution_count": 14,
      "outputs": [
        {
          "output_type": "stream",
          "name": "stdout",
          "text": [
            "Mean amount (USD) for suspicious transactions: 41,302.69\n",
            "Mean amount (USD) for legit transactions: 8,736.88\n"
          ]
        }
      ]
    },
    {
      "cell_type": "code",
      "source": [
        "suspicious_transactions_coming = df[df['Is_laundering'] == 1.0]['Sender_bank_location'].value_counts()\n",
        "\n",
        "print(f\"Suspicious transactions coming from: {suspicious_transactions_coming}\")"
      ],
      "metadata": {
        "colab": {
          "base_uri": "https://localhost:8080/"
        },
        "id": "vfeqOfifDEUS",
        "outputId": "0a644758-8d9b-4dd5-edbc-87724c454c5e"
      },
      "execution_count": 15,
      "outputs": [
        {
          "output_type": "stream",
          "name": "stdout",
          "text": [
            "Suspicious transactions coming from: Sender_bank_location\n",
            "UK             8389\n",
            "Morocco          48\n",
            "Mexico           43\n",
            "India            41\n",
            "Switzerland      40\n",
            "Germany          38\n",
            "Italy            36\n",
            "Japan            35\n",
            "Netherlands      35\n",
            "Austria          34\n",
            "UAE              34\n",
            "USA              33\n",
            "France           28\n",
            "Albania          27\n",
            "Turkey           27\n",
            "Spain            26\n",
            "Pakistan         25\n",
            "Nigeria          23\n",
            "Name: count, dtype: int64\n"
          ]
        }
      ]
    },
    {
      "cell_type": "code",
      "source": [
        "most_suspicious_methods = df[df['Is_laundering'] == 1.0]['Payment_type'].value_counts()\n",
        "\n",
        "print(f\"Most suspicious methods: {most_suspicious_methods}\")"
      ],
      "metadata": {
        "colab": {
          "base_uri": "https://localhost:8080/"
        },
        "id": "q6TCKiRxDdSs",
        "outputId": "ac69bc68-e3a8-4633-a369-6f17bddb9619"
      },
      "execution_count": 16,
      "outputs": [
        {
          "output_type": "stream",
          "name": "stdout",
          "text": [
            "Most suspicious methods: Payment_type\n",
            "Cross-border       2394\n",
            "Cash Deposit       1282\n",
            "Cash Withdrawal    1195\n",
            "ACH                1063\n",
            "Credit card        1029\n",
            "Debit card         1007\n",
            "Cheque              992\n",
            "Name: count, dtype: int64\n"
          ]
        }
      ]
    },
    {
      "cell_type": "code",
      "source": [
        "relation_between_methods = df.groupby('Payment_type')['Is_laundering'].mean()\n",
        "\n",
        "print(f\"Relation between methods: {relation_between_methods}\")"
      ],
      "metadata": {
        "colab": {
          "base_uri": "https://localhost:8080/"
        },
        "id": "al-Vmq6VIFK0",
        "outputId": "519deca0-cd5e-4a38-ee6d-077e40dbf2e5"
      },
      "execution_count": 17,
      "outputs": [
        {
          "output_type": "stream",
          "name": "stdout",
          "text": [
            "Relation between methods: Payment_type\n",
            "ACH                0.000575\n",
            "Cash Deposit       0.006158\n",
            "Cash Withdrawal    0.004314\n",
            "Cheque             0.000535\n",
            "Credit card        0.000555\n",
            "Cross-border       0.002785\n",
            "Debit card         0.000543\n",
            "Name: Is_laundering, dtype: float64\n"
          ]
        }
      ]
    }
  ]
}